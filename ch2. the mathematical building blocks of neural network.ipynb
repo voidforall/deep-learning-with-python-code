{
 "cells": [
  {
   "cell_type": "markdown",
   "metadata": {},
   "source": [
    "### 2.1 A 2-layer NN example on MNIST written in Keras\n",
    "\n",
    "下面是一个两层全连接层的神经网络在Keras框架中的实例，我们将用其解决最为经典的MNIST数据集上的手写数字识别问题。"
   ]
  },
  {
   "cell_type": "code",
   "execution_count": 1,
   "metadata": {},
   "outputs": [
    {
     "name": "stderr",
     "output_type": "stream",
     "text": [
      "C:\\Users\\10750\\Anaconda3\\lib\\site-packages\\h5py\\__init__.py:36: FutureWarning: Conversion of the second argument of issubdtype from `float` to `np.floating` is deprecated. In future, it will be treated as `np.float64 == np.dtype(float).type`.\n",
      "  from ._conv import register_converters as _register_converters\n",
      "Using TensorFlow backend.\n"
     ]
    }
   ],
   "source": [
    "from keras.datasets import mnist\n",
    "(train_images, train_labels), (test_images, test_labels) = mnist.load_data()"
   ]
  },
  {
   "cell_type": "code",
   "execution_count": 2,
   "metadata": {},
   "outputs": [
    {
     "data": {
      "text/plain": [
       "(60000, 28, 28)"
      ]
     },
     "execution_count": 2,
     "metadata": {},
     "output_type": "execute_result"
    }
   ],
   "source": [
    "train_images.shape"
   ]
  },
  {
   "cell_type": "markdown",
   "metadata": {},
   "source": [
    "keras.datasets中预置了许多经典的数据集，当然第一次load_data()时是需要下载到本地的。load_data方法返回格式为Tuple of Numpy arrays: `(x_train, y_train), (x_test, y_test)`.\n",
    "\n",
    "下面是keras中网络架构的写法，核心是keras.layers中的网络层的组装。即将简单的层链接起来，从而实现渐进式的数据蒸馏(data distillation)。\n",
    "\n",
    "Dense是keras中的全连接层，在pytorch等框架中也叫fc。"
   ]
  },
  {
   "cell_type": "code",
   "execution_count": 3,
   "metadata": {},
   "outputs": [],
   "source": [
    "from keras import models\n",
    "from keras import layers\n",
    "\n",
    "network = models.Sequential()\n",
    "network.add(layers.Dense(512, activation='relu', input_shape=(28*28, )))\n",
    "network.add(layers.Dense(10, activation='softmax'))"
   ]
  },
  {
   "cell_type": "code",
   "execution_count": 4,
   "metadata": {},
   "outputs": [
    {
     "name": "stdout",
     "output_type": "stream",
     "text": [
      "_________________________________________________________________\n",
      "Layer (type)                 Output Shape              Param #   \n",
      "=================================================================\n",
      "dense_1 (Dense)              (None, 512)               401920    \n",
      "_________________________________________________________________\n",
      "dense_2 (Dense)              (None, 10)                5130      \n",
      "=================================================================\n",
      "Total params: 407,050\n",
      "Trainable params: 407,050\n",
      "Non-trainable params: 0\n",
      "_________________________________________________________________\n"
     ]
    }
   ],
   "source": [
    "network.summary()"
   ]
  },
  {
   "cell_type": "markdown",
   "metadata": {},
   "source": [
    "在训练网络之前，我们还需要选择compile步骤的三个参数，它们分别是\n",
    "\n",
    "- loss function\n",
    "- optimizer\n",
    "- metric"
   ]
  },
  {
   "cell_type": "code",
   "execution_count": 5,
   "metadata": {},
   "outputs": [],
   "source": [
    "network.compile(optimizer='rmsprop',\n",
    "                loss='categorical_crossentropy',\n",
    "                metrics=['accuracy'])"
   ]
  },
  {
   "cell_type": "markdown",
   "metadata": {},
   "source": [
    "在把训练数据feed进network之前，我们先对原始数据进行处理：将(60000, 28, 28)的数据拉成(60000, 28 * 28)，并把dtype从uint8变成float32，并把数据范围normalize到(0,1)的区间中。"
   ]
  },
  {
   "cell_type": "code",
   "execution_count": 6,
   "metadata": {},
   "outputs": [],
   "source": [
    "train_images = train_images.reshape((60000, 28*28))\n",
    "train_images = train_images.astype('float32') / 255\n",
    "\n",
    "test_images = test_images.reshape((10000, 28*28))\n",
    "test_images = test_images.astype('float32') / 255"
   ]
  },
  {
   "cell_type": "code",
   "execution_count": 7,
   "metadata": {},
   "outputs": [],
   "source": [
    "# 对图像标签进行编码\n",
    "from keras.utils import to_categorical\n",
    "\n",
    "train_labels = to_categorical(train_labels)\n",
    "test_labels = to_categorical(test_labels)"
   ]
  },
  {
   "cell_type": "code",
   "execution_count": 8,
   "metadata": {},
   "outputs": [
    {
     "name": "stdout",
     "output_type": "stream",
     "text": [
      "Epoch 1/5\n",
      "60000/60000 [==============================] - 12s 206us/step - loss: 0.2563 - acc: 0.9260\n",
      "Epoch 2/5\n",
      "60000/60000 [==============================] - 4s 72us/step - loss: 0.1043 - acc: 0.9694\n",
      "Epoch 3/5\n",
      "60000/60000 [==============================] - 5s 76us/step - loss: 0.0690 - acc: 0.9795\n",
      "Epoch 4/5\n",
      "60000/60000 [==============================] - 6s 100us/step - loss: 0.0498 - acc: 0.9852 1s - loss: 0.0493 - acc: 0.985 - ETA: 1s - loss: 0.049 - ETA: 1s - loss:  - ETA: 0s - loss: 0.\n",
      "Epoch 5/5\n",
      "60000/60000 [==============================] - 5s 79us/step - loss: 0.0379 - acc: 0.9883A: 9s - loss: 0.0370 - acc\n"
     ]
    },
    {
     "data": {
      "text/plain": [
       "<keras.callbacks.History at 0x2943093bba8>"
      ]
     },
     "execution_count": 8,
     "metadata": {},
     "output_type": "execute_result"
    }
   ],
   "source": [
    "network.fit(train_images, train_labels, epochs=5, batch_size=128)"
   ]
  },
  {
   "cell_type": "markdown",
   "metadata": {},
   "source": [
    "可以看到，train了5个epoch后在训练集上的accuracy是98.83%，下面用evaluate方法将network在测试集上测试："
   ]
  },
  {
   "cell_type": "code",
   "execution_count": 9,
   "metadata": {},
   "outputs": [
    {
     "name": "stdout",
     "output_type": "stream",
     "text": [
      "10000/10000 [==============================] - 1s 87us/step\n"
     ]
    }
   ],
   "source": [
    "test_loss, test_acc = network.evaluate(test_images, test_labels)"
   ]
  },
  {
   "cell_type": "code",
   "execution_count": 10,
   "metadata": {},
   "outputs": [
    {
     "data": {
      "text/plain": [
       "0.9816"
      ]
     },
     "execution_count": 10,
     "metadata": {},
     "output_type": "execute_result"
    }
   ],
   "source": [
    "test_acc"
   ]
  },
  {
   "cell_type": "markdown",
   "metadata": {},
   "source": [
    "### 2.2 Data representations in Neural Networks"
   ]
  },
  {
   "cell_type": "markdown",
   "metadata": {},
   "source": [
    "神经网络中的数据表示，简而言之，就是张量(Tensor)。tensor是一个数据容器，可以看作是向量或矩阵向任意维度的推广，其维度也叫轴(axis)，x.ndim即其张量的维度数。0D张量就是一个数，也称标量。"
   ]
  },
  {
   "cell_type": "code",
   "execution_count": 11,
   "metadata": {},
   "outputs": [
    {
     "data": {
      "text/plain": [
       "2"
      ]
     },
     "execution_count": 11,
     "metadata": {},
     "output_type": "execute_result"
    }
   ],
   "source": [
    "train_images.ndim"
   ]
  },
  {
   "cell_type": "markdown",
   "metadata": {},
   "source": [
    "张量是由以下三个属性决定的：\n",
    "- Numbers of axes(rank)，也即ndim维数\n",
    "- Shape，x.shape查看\n",
    "- Data type，如float32/uint8等"
   ]
  },
  {
   "cell_type": "code",
   "execution_count": 14,
   "metadata": {},
   "outputs": [
    {
     "data": {
      "image/png": "[encoded data removed]",
      "text/plain": [
       "<Figure size 432x288 with 1 Axes>"
      ]
     },
     "metadata": {},
     "output_type": "display_data"
    }
   ],
   "source": [
    "digit = train_images[4].reshape(28, 28)\n",
    "\n",
    "import matplotlib.pyplot as plt\n",
    "plt.imshow(digit, cmap=plt.cm.binary)\n",
    "plt.show()"
   ]
  },
  {
   "cell_type": "markdown",
   "metadata": {},
   "source": [
    "需要注意的一点是，大部分深度学习框架中都默认数据的第一个axis是batch axis，其在数值上等于samples的个数。\n",
    "\n",
    "这一设定重要的地方在于，在框架拿数据fit模型的时候，会根据batch_size在数据上slice，如batch = train_images[:128]"
   ]
  },
  {
   "cell_type": "markdown",
   "metadata": {},
   "source": [
    "### 2.3 The gears of neural networks: tensor operations\n",
    "\n",
    "本质上说，神经网络做的就是数值张量上的张量运算(tensor operation)。下面分类来看这些运算："
   ]
  },
  {
   "cell_type": "markdown",
   "metadata": {},
   "source": [
    "- Element-wise逐元素运算，如relu, add等。运算独立作用于张量中每个元素，适合大规模并行实现。\n",
    "- Broadcasting广播，如将(32, 10)的张量和(10, )相加时，会把(10, )先添加broadcasting axis变为(1, 10)，再将其沿着新的axis重复32次变为(32, 10)再和第一个张量相加。\n",
    "- Tensor dot张量点积，在keras中的实现和numpy一样，用np.dot(x, y)。\n",
    "- Tensor reshaping张量变形，x.reshape可以改变shape，但总元素个数不变。np.transpose(x)可以实现x的转置，作为一种特殊的reshape。\n",
    "\n",
    "深度学习的内容可以被理解为：通过tensor operations为复杂的、高维的数据流形找到简洁的表示。"
   ]
  },
  {
   "cell_type": "markdown",
   "metadata": {},
   "source": [
    "### 2.4 The engine of neural networks: gradient-based optimization\n",
    "\n",
    "神经网络训练的过程：将一个batch的数据feed到模型中，在x上做forward pass得到y_pred，计算y_pred和y之间的distance作为loss，更新神经网络的weights使loss下降。\n",
    "\n",
    "最后一步，即backward pass是训练的关键所在。BP利用了网络中所有运算都是可微的事实，计算loss相对于网络系数的gradient，然后向gradient的相反方向改变weights，从而使loss降低。"
   ]
  },
  {
   "cell_type": "markdown",
   "metadata": {},
   "source": [
    "#### 随机梯度下降SGD\n",
    "\n",
    "SGD对于参数的更新即最简单的W -= learning_rate * gradient。而SGD的随机(stochastic)就在于每次batch是随机抽取的。根据batch大小不同，SGD分为以下几种：每次用一个固定batch_size的随机batch做GD的mini-batch SGD、每次只用一个sample做SGD的true SGD和每次把所有sample当一个batch的batch SGD。虽然batch SGD最为准确，但计算代价要高出很多，因此一般还是选择合适size的mini-batch。"
   ]
  }
 ],
 "metadata": {
  "kernelspec": {
   "display_name": "Python 3",
   "language": "python",
   "name": "python3"
  },
  "language_info": {
   "codemirror_mode": {
    "name": "ipython",
    "version": 3
   },
   "file_extension": ".py",
   "mimetype": "text/x-python",
   "name": "python",
   "nbconvert_exporter": "python",
   "pygments_lexer": "ipython3",
   "version": "3.6.5"
  }
 },
 "nbformat": 4,
 "nbformat_minor": 2
}
